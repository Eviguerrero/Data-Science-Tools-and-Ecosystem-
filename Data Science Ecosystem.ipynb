{
 "cells": [
  {
   "cell_type": "markdown",
   "id": "64de3a01-70ab-434f-b074-f360fd998463",
   "metadata": {},
   "source": [
    "# Data Science Tools and Ecosystem"
   ]
  },
  {
   "cell_type": "markdown",
   "id": "f61e4736-13f4-4b70-b2b3-da232ac4c629",
   "metadata": {},
   "source": [
    "In this notebook, Data Science Tools and Ecosystem are summarized"
   ]
  },
  {
   "attachments": {},
   "cell_type": "markdown",
   "id": "88767251-4cd4-499a-ba04-aa96026bfb59",
   "metadata": {},
   "source": [
    "<b> Objectives:"
   ]
  },
  {
   "cell_type": "markdown",
   "id": "b0872639-0c81-4021-ba31-5f104d70e772",
   "metadata": {},
   "source": [
    "Some of the popular languages that Data Scientist use are:\n",
    "* English\n",
    "* Spanish\n",
    "* French "
   ]
  },
  {
   "cell_type": "markdown",
   "id": "b7760bc0-080b-4064-8005-6cffad999def",
   "metadata": {},
   "source": [
    "Some of the commonly used libraries used by Data Scientist include:\n",
    "* Pandas\n",
    "* NumPy\n",
    "* SciPy\n",
    "* Plotly "
   ]
  },
  {
   "cell_type": "markdown",
   "id": "966e0ea7-6c50-4990-b889-a0b3c8aa4ab4",
   "metadata": {},
   "source": [
    "# Data Science Tools"
   ]
  },
  {
   "cell_type": "markdown",
   "id": "2cb87616-3987-44e7-a227-efcb77a5f319",
   "metadata": {},
   "source": [
    "* Jupyter Notebook\n",
    "* Rstudio\n",
    "* Visual Studio Code "
   ]
  },
  {
   "cell_type": "markdown",
   "id": "56592491-3ab7-4515-bf53-8433dd467e85",
   "metadata": {},
   "source": [
    "### Below are a few examples of evaluating arithmetic expression in Python "
   ]
  },
  {
   "attachments": {},
   "cell_type": "markdown",
   "id": "370ad613-b42a-4aba-bd9d-0cae5410e82d",
   "metadata": {},
   "source": [
    "This is a simple arithmetic expression to multiply the add intergers"
   ]
  },
  {
   "cell_type": "code",
   "execution_count": 6,
   "id": "30f23701-2482-43d6-ae4e-13b71b53829b",
   "metadata": {},
   "outputs": [
    {
     "data": {
      "text/plain": [
       "17"
      ]
     },
     "execution_count": 6,
     "metadata": {},
     "output_type": "execute_result"
    }
   ],
   "source": [
    "(3*4)+5"
   ]
  },
  {
   "cell_type": "markdown",
   "id": "019a5a8e-9c6e-4d52-b043-7570b3c30357",
   "metadata": {},
   "source": [
    "This will convert 200 minutes to hours by diving by 60"
   ]
  },
  {
   "cell_type": "code",
   "execution_count": 7,
   "id": "3e33575b-8fd2-42e3-a97c-9ecb9936e1f6",
   "metadata": {},
   "outputs": [
    {
     "data": {
      "text/plain": [
       "3.3333333333333335"
      ]
     },
     "execution_count": 7,
     "metadata": {},
     "output_type": "execute_result"
    }
   ],
   "source": [
    "200/60"
   ]
  },
  {
   "cell_type": "markdown",
   "id": "1e710c95-a10d-4946-b062-b40ee2ee9679",
   "metadata": {},
   "source": [
    "## Author\n",
    "Evelin Guerrero"
   ]
  },
  {
   "cell_type": "code",
   "execution_count": null,
   "id": "cad3b305-2beb-4eaf-bd23-1bf72beef90f",
   "metadata": {},
   "outputs": [],
   "source": []
  }
 ],
 "metadata": {
  "kernelspec": {
   "display_name": "anaconda-panel-2023.05-py310",
   "language": "python",
   "name": "conda-env-anaconda-panel-2023.05-py310-py"
  },
  "language_info": {
   "codemirror_mode": {
    "name": "ipython",
    "version": 3
   },
   "file_extension": ".py",
   "mimetype": "text/x-python",
   "name": "python",
   "nbconvert_exporter": "python",
   "pygments_lexer": "ipython3",
   "version": "3.11.5"
  }
 },
 "nbformat": 4,
 "nbformat_minor": 5
}
